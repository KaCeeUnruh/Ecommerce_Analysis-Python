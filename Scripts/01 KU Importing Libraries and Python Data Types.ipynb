{
 "cells": [
  {
   "cell_type": "markdown",
   "id": "3dfcbd10",
   "metadata": {},
   "source": [
    "# Python Data Types"
   ]
  },
  {
   "cell_type": "code",
   "execution_count": 1,
   "id": "362be6b1",
   "metadata": {},
   "outputs": [],
   "source": [
    "# Import libraries \n",
    "import pandas as pd\n",
    "import numpy as np\n",
    "import os"
   ]
  },
  {
   "cell_type": "code",
   "execution_count": 1,
   "id": "56585142",
   "metadata": {},
   "outputs": [
    {
     "data": {
      "text/plain": [
       "100"
      ]
     },
     "execution_count": 1,
     "metadata": {},
     "output_type": "execute_result"
    }
   ],
   "source": [
    "99 + 1"
   ]
  },
  {
   "cell_type": "code",
   "execution_count": 2,
   "id": "b7eac7a4",
   "metadata": {},
   "outputs": [
    {
     "data": {
      "text/plain": [
       "100"
      ]
     },
     "execution_count": 2,
     "metadata": {},
     "output_type": "execute_result"
    }
   ],
   "source": [
    "5 * 20"
   ]
  },
  {
   "cell_type": "code",
   "execution_count": 3,
   "id": "7ebdc179",
   "metadata": {},
   "outputs": [
    {
     "data": {
      "text/plain": [
       "100"
      ]
     },
     "execution_count": 3,
     "metadata": {},
     "output_type": "execute_result"
    }
   ],
   "source": [
    "103 - 3 "
   ]
  },
  {
   "cell_type": "code",
   "execution_count": 4,
   "id": "4b5821a8",
   "metadata": {},
   "outputs": [],
   "source": [
    "x = 1.1"
   ]
  },
  {
   "cell_type": "code",
   "execution_count": 5,
   "id": "e413bf7a",
   "metadata": {},
   "outputs": [],
   "source": [
    "y = 2.2"
   ]
  },
  {
   "cell_type": "code",
   "execution_count": 6,
   "id": "ef233b0b",
   "metadata": {},
   "outputs": [],
   "source": [
    "z = 4.4"
   ]
  },
  {
   "cell_type": "code",
   "execution_count": 7,
   "id": "ba5fd97f",
   "metadata": {},
   "outputs": [
    {
     "data": {
      "text/plain": [
       "2.0"
      ]
     },
     "execution_count": 7,
     "metadata": {},
     "output_type": "execute_result"
    }
   ],
   "source": [
    "y / x"
   ]
  },
  {
   "cell_type": "code",
   "execution_count": 8,
   "id": "40dd30dd",
   "metadata": {},
   "outputs": [
    {
     "data": {
      "text/plain": [
       "4.0"
      ]
     },
     "execution_count": 8,
     "metadata": {},
     "output_type": "execute_result"
    }
   ],
   "source": [
    "z / x"
   ]
  },
  {
   "cell_type": "code",
   "execution_count": 9,
   "id": "1188dc66",
   "metadata": {},
   "outputs": [],
   "source": [
    "m = 'Fu'"
   ]
  },
  {
   "cell_type": "code",
   "execution_count": 10,
   "id": "c1bc67d4",
   "metadata": {},
   "outputs": [],
   "source": [
    "n = 'tur'"
   ]
  },
  {
   "cell_type": "code",
   "execution_count": 11,
   "id": "23c96c71",
   "metadata": {},
   "outputs": [],
   "source": [
    "o = 'ama'"
   ]
  },
  {
   "cell_type": "code",
   "execution_count": 12,
   "id": "95b6c941",
   "metadata": {},
   "outputs": [
    {
     "data": {
      "text/plain": [
       "'Futurama'"
      ]
     },
     "execution_count": 12,
     "metadata": {},
     "output_type": "execute_result"
    }
   ],
   "source": [
    "m + n + o"
   ]
  },
  {
   "cell_type": "code",
   "execution_count": 13,
   "id": "c09f5524",
   "metadata": {},
   "outputs": [],
   "source": [
    "l = 'All new, '"
   ]
  },
  {
   "cell_type": "code",
   "execution_count": 14,
   "id": "25b0ef77",
   "metadata": {},
   "outputs": [],
   "source": [
    "p = '! '"
   ]
  },
  {
   "cell_type": "code",
   "execution_count": 15,
   "id": "a5e0909b",
   "metadata": {},
   "outputs": [],
   "source": [
    "q = 'Tonight at seven! '"
   ]
  },
  {
   "cell_type": "code",
   "execution_count": 16,
   "id": "1508deda",
   "metadata": {},
   "outputs": [
    {
     "data": {
      "text/plain": [
       "'All new, Futurama! Tonight at seven! '"
      ]
     },
     "execution_count": 16,
     "metadata": {},
     "output_type": "execute_result"
    }
   ],
   "source": [
    "l + m + n + o + p + q"
   ]
  },
  {
   "cell_type": "code",
   "execution_count": null,
   "id": "fcc36530",
   "metadata": {},
   "outputs": [],
   "source": []
  }
 ],
 "metadata": {
  "kernelspec": {
   "display_name": "Python 3 (ipykernel)",
   "language": "python",
   "name": "python3"
  },
  "language_info": {
   "codemirror_mode": {
    "name": "ipython",
    "version": 3
   },
   "file_extension": ".py",
   "mimetype": "text/x-python",
   "name": "python",
   "nbconvert_exporter": "python",
   "pygments_lexer": "ipython3",
   "version": "3.11.4"
  }
 },
 "nbformat": 4,
 "nbformat_minor": 5
}
